{
 "cells": [
  {
   "cell_type": "code",
   "execution_count": 1,
   "id": "68c6b683",
   "metadata": {},
   "outputs": [],
   "source": [
    "import os\n",
    "import io\n",
    "import sys\n",
    "import json\n",
    "import time\n",
    "import random\n",
    "import logging\n",
    "\n",
    "import numpy as np\n",
    "import pandas as pd\n",
    "import datetime\n",
    "\n",
    "import plotly.io as pio\n",
    "import streamlit as st\n",
    "import seaborn as sns\n",
    "import zipfile\n",
    "\n",
    "import plotly.graph_objects as go\n",
    "from sklearn.metrics import mean_squared_error\n",
    "\n",
    "from utils.manager.login import *\n",
    "from utils.inputs.validation import *\n",
    "from utils.inputs.preprocess import *\n",
    "from utils.inputs.ads import *\n",
    "from utils.modeling.search import *\n",
    "from utils.modeling.general import *\n",
    "from utils.modeling.plot import *\n",
    "from utils.analysis.tables import *\n",
    "from utils.analysis.plot import *\n",
    "\n",
    "# Set up the logging configuration for cmdstanpy\n",
    "logger = logging.getLogger()\n",
    "\n",
    "# Add NullHandler with CRITICAL log level\n",
    "null_handler = logging.NullHandler()\n",
    "null_handler.setLevel(logging.CRITICAL)\n",
    "logger.addHandler(null_handler)\n",
    "\n",
    "# Add StreamHandler with INFO log level\n",
    "stream_handler = logging.StreamHandler()\n",
    "stream_handler.setFormatter(logging.Formatter('%(asctime)s - %(name)s - %(levelname)s - %(message)s'))\n",
    "stream_handler.setLevel(logging.INFO)\n",
    "logger.addHandler(stream_handler)\n",
    "\n",
    "logger.propagate = False"
   ]
  },
  {
   "cell_type": "markdown",
   "id": "ea3ae5d9",
   "metadata": {},
   "source": [
    "## Inputs"
   ]
  },
  {
   "cell_type": "code",
   "execution_count": 2,
   "id": "6d814092",
   "metadata": {},
   "outputs": [],
   "source": [
    "# Add dropdown for Country\n",
    "country_name = \"CA\"\n",
    "\n",
    "# Add radio for weekend\n",
    "weekend_drop = False\n",
    "\n",
    "# Add dropdown for frequency\n",
    "forecast_freq = \"D\"\n",
    "\n",
    "# Add dropdown for data selection\n",
    "data_selection = True\n",
    "\n",
    "# Add dropdown for data selection\n",
    "external_features = False\n",
    "\n",
    "# Add file uploader to the sidebar\n",
    "uploaded_file = 'Agency Services.csv'"
   ]
  },
  {
   "cell_type": "code",
   "execution_count": 3,
   "id": "397d1e05",
   "metadata": {},
   "outputs": [],
   "source": [
    "if forecast_freq == \"D\":\n",
    "    forecast_period = 92\n",
    "elif forecast_freq == \"W\":\n",
    "    forecast_period = 26\n",
    "elif forecast_freq == \"M\":\n",
    "    forecast_period = 12"
   ]
  },
  {
   "cell_type": "markdown",
   "id": "5b710081",
   "metadata": {},
   "source": [
    "## Validation"
   ]
  },
  {
   "cell_type": "code",
   "execution_count": 4,
   "id": "fcb8549f",
   "metadata": {},
   "outputs": [],
   "source": [
    "try:\n",
    "    # Validate the input file\n",
    "    data_full, error_message = validate_input_file(uploaded_file, external_features)\n",
    "    logging.info(f\"Data Size: {data_full.shape}\")\n",
    "    if error_message:\n",
    "        raise ValueError(error_message)\n",
    "except Exception as e:\n",
    "    # Log this exception or handle it further up the call stack\n",
    "    raise ValueError(f\"An error occurred while validating the file: {str(e)}\")"
   ]
  },
  {
   "cell_type": "markdown",
   "id": "b83fc477",
   "metadata": {},
   "source": [
    "## Processing"
   ]
  },
  {
   "cell_type": "code",
   "execution_count": 5,
   "id": "8c7e743a",
   "metadata": {},
   "outputs": [],
   "source": [
    "try:\n",
    "    # Process the input file\n",
    "    train_full, forecast_full, error_message = process_input_file(data_full)\n",
    "    logging.info(f\"Train Data Size: {train_full.shape}\")\n",
    "    logging.info(f\"Forecast Data Size: {forecast_full.shape}\")\n",
    "    if error_message:\n",
    "        raise ValueError(error_message)\n",
    "except Exception as e:\n",
    "    # Log this exception or handle it further up the call stack\n",
    "    raise ValueError(f\"An error occurred while processing the file: {str(e)}\")"
   ]
  },
  {
   "cell_type": "markdown",
   "id": "c2ba67c3",
   "metadata": {},
   "source": [
    "## Automated Data Selection"
   ]
  },
  {
   "cell_type": "code",
   "execution_count": 6,
   "id": "44662db2",
   "metadata": {},
   "outputs": [],
   "source": [
    "try:\n",
    "    if data_selection:\n",
    "        \n",
    "        # Find optimal window \n",
    "        optimal_window_size, error_message = find_optimal_window(train_full)\n",
    "        \n",
    "        logging.info(f\"Optimal Window Size: {optimal_window_size}\")\n",
    "\n",
    "        if error_message:\n",
    "            raise ValueError(error_message)\n",
    "\n",
    "        # Add 180 days for feature engineering to optimal window\n",
    "        optimal_window_size += 180\n",
    "\n",
    "        # Truncate the train set based on optimal window\n",
    "        train_optimal = train_full[optimal_window_size:].copy(deep=True)\n",
    "        \n",
    "        logging.info(f\"Optimal Train Data Size: {train_optimal.shape}\")\n",
    "\n",
    "        # Find the min data for optimal train data\n",
    "        optimal_window_date = train_optimal['ds'].min()\n",
    "    else:\n",
    "        # Truncate the train set based on optimal window\n",
    "        train_optimal = train_full.copy(deep=True)\n",
    "        \n",
    "        logging.info(f\"Optimal Train Data Size: {train_optimal.shape}\")\n",
    "\n",
    "        # Find the min data for optimal train data\n",
    "        optimal_window_date = train_optimal['ds'].min()\n",
    "except Exception as e:\n",
    "    # Log this exception or handle it further up the call stack\n",
    "    raise ValueError(f\"An error occurred while finding the optimal window: {str(e)}\")"
   ]
  }
 ],
 "metadata": {
  "kernelspec": {
   "display_name": "Python 3 (ipykernel)",
   "language": "python",
   "name": "python3"
  },
  "language_info": {
   "codemirror_mode": {
    "name": "ipython",
    "version": 3
   },
   "file_extension": ".py",
   "mimetype": "text/x-python",
   "name": "python",
   "nbconvert_exporter": "python",
   "pygments_lexer": "ipython3",
   "version": "3.9.13"
  }
 },
 "nbformat": 4,
 "nbformat_minor": 5
}
