{
 "cells": [
  {
   "cell_type": "code",
   "execution_count": 1,
   "id": "68c6b683",
   "metadata": {},
   "outputs": [],
   "source": [
    "import os\n",
    "import io\n",
    "import sys\n",
    "import json\n",
    "import time\n",
    "import random\n",
    "import logging\n",
    "\n",
    "import numpy as np\n",
    "import pandas as pd\n",
    "import datetime\n",
    "\n",
    "import plotly.io as pio\n",
    "import streamlit as st\n",
    "import seaborn as sns\n",
    "import zipfile\n",
    "\n",
    "import plotly.graph_objects as go\n",
    "from sklearn.metrics import mean_squared_error\n",
    "\n",
    "from utils.manager.login import *\n",
    "from utils.inputs.validation import *\n",
    "from utils.inputs.preprocess import *\n",
    "from utils.inputs.ads import *\n",
    "from utils.modeling.general import *\n",
    "from utils.modeling.skforecast_utils import *\n",
    "from utils.modeling.sktime_utils import *\n",
    "\n",
    "# Set up the logging configuration for cmdstanpy\n",
    "logger = logging.getLogger()\n",
    "\n",
    "# Add NullHandler with CRITICAL log level\n",
    "null_handler = logging.NullHandler()\n",
    "null_handler.setLevel(logging.CRITICAL)\n",
    "logger.addHandler(null_handler)\n",
    "\n",
    "# Add StreamHandler with INFO log level\n",
    "stream_handler = logging.StreamHandler()\n",
    "stream_handler.setFormatter(logging.Formatter('%(asctime)s - %(name)s - %(levelname)s - %(message)s'))\n",
    "stream_handler.setLevel(logging.INFO)\n",
    "logger.addHandler(stream_handler)\n",
    "\n",
    "logger.propagate = False"
   ]
  },
  {
   "cell_type": "markdown",
   "id": "ea3ae5d9",
   "metadata": {},
   "source": [
    "## Inputs"
   ]
  },
  {
   "cell_type": "code",
   "execution_count": 2,
   "id": "6d814092",
   "metadata": {},
   "outputs": [],
   "source": [
    "# Add dropdown for Country\n",
    "country_name = \"CA\"\n",
    "\n",
    "# Add dropdown for frequency\n",
    "forecast_freq = \"D\"\n",
    "\n",
    "# Add dropdown for data selection\n",
    "data_selection = False\n",
    "\n",
    "# Add dropdown for data selection\n",
    "external_features = False\n",
    "\n",
    "# Add file uploader to the sidebar\n",
    "uploaded_file = 'Agency Services.csv'"
   ]
  },
  {
   "cell_type": "code",
   "execution_count": 3,
   "id": "397d1e05",
   "metadata": {},
   "outputs": [],
   "source": [
    "if forecast_freq == \"D\":\n",
    "    forecast_period = 92\n",
    "elif forecast_freq == \"B\":\n",
    "    forecast_period = 66\n",
    "elif forecast_freq == \"W\":\n",
    "    forecast_period = 26\n",
    "elif forecast_freq == \"M\":\n",
    "    forecast_period = 12"
   ]
  },
  {
   "cell_type": "code",
   "execution_count": 4,
   "id": "c36a54b4",
   "metadata": {},
   "outputs": [],
   "source": [
    "# Organize these selections into a dictionary\n",
    "run_params = {\n",
    "    \"country_name\": country_name,\n",
    "    \"forecast_freq\": forecast_freq,\n",
    "    \"forecast_period\": forecast_period,\n",
    "    \"data_selection\": data_selection,\n",
    "    \"external_features\": external_features,\n",
    "    \"weekend_weight\": 5,\n",
    "    \"holiday_weight\": 10,\n",
    "    \"metric_key\": \"mspe\"\n",
    "}"
   ]
  },
  {
   "cell_type": "markdown",
   "id": "5b710081",
   "metadata": {},
   "source": [
    "## Validation"
   ]
  },
  {
   "cell_type": "code",
   "execution_count": 5,
   "id": "fcb8549f",
   "metadata": {},
   "outputs": [],
   "source": [
    "try:\n",
    "    # Validate the input file\n",
    "    df = validate_input_file(uploaded_file, external_features)\n",
    "    logging.info(f\"Train Data Size: {df.shape}\")\n",
    "except Exception as e:\n",
    "    # Log this exception or handle it further up the call stack\n",
    "    raise Exception(f\"An error occurred while validating the file: {str(e)}\")"
   ]
  },
  {
   "cell_type": "code",
   "execution_count": 6,
   "id": "1a79aa73",
   "metadata": {},
   "outputs": [
    {
     "data": {
      "text/html": [
       "<div>\n",
       "<style scoped>\n",
       "    .dataframe tbody tr th:only-of-type {\n",
       "        vertical-align: middle;\n",
       "    }\n",
       "\n",
       "    .dataframe tbody tr th {\n",
       "        vertical-align: top;\n",
       "    }\n",
       "\n",
       "    .dataframe thead th {\n",
       "        text-align: right;\n",
       "    }\n",
       "</style>\n",
       "<table border=\"1\" class=\"dataframe\">\n",
       "  <thead>\n",
       "    <tr style=\"text-align: right;\">\n",
       "      <th></th>\n",
       "      <th>ds</th>\n",
       "      <th>y</th>\n",
       "    </tr>\n",
       "  </thead>\n",
       "  <tbody>\n",
       "    <tr>\n",
       "      <th>0</th>\n",
       "      <td>2018-01-01</td>\n",
       "      <td>0.0</td>\n",
       "    </tr>\n",
       "    <tr>\n",
       "      <th>1</th>\n",
       "      <td>2018-01-02</td>\n",
       "      <td>367.0</td>\n",
       "    </tr>\n",
       "    <tr>\n",
       "      <th>2</th>\n",
       "      <td>2018-01-03</td>\n",
       "      <td>391.0</td>\n",
       "    </tr>\n",
       "    <tr>\n",
       "      <th>3</th>\n",
       "      <td>2018-01-04</td>\n",
       "      <td>431.0</td>\n",
       "    </tr>\n",
       "    <tr>\n",
       "      <th>4</th>\n",
       "      <td>2018-01-05</td>\n",
       "      <td>395.0</td>\n",
       "    </tr>\n",
       "    <tr>\n",
       "      <th>...</th>\n",
       "      <td>...</td>\n",
       "      <td>...</td>\n",
       "    </tr>\n",
       "    <tr>\n",
       "      <th>360</th>\n",
       "      <td>2018-12-27</td>\n",
       "      <td>280.0</td>\n",
       "    </tr>\n",
       "    <tr>\n",
       "      <th>361</th>\n",
       "      <td>2018-12-28</td>\n",
       "      <td>278.0</td>\n",
       "    </tr>\n",
       "    <tr>\n",
       "      <th>362</th>\n",
       "      <td>2018-12-29</td>\n",
       "      <td>0.0</td>\n",
       "    </tr>\n",
       "    <tr>\n",
       "      <th>363</th>\n",
       "      <td>2018-12-30</td>\n",
       "      <td>0.0</td>\n",
       "    </tr>\n",
       "    <tr>\n",
       "      <th>364</th>\n",
       "      <td>2018-12-31</td>\n",
       "      <td>299.0</td>\n",
       "    </tr>\n",
       "  </tbody>\n",
       "</table>\n",
       "<p>365 rows × 2 columns</p>\n",
       "</div>"
      ],
      "text/plain": [
       "            ds      y\n",
       "0   2018-01-01    0.0\n",
       "1   2018-01-02  367.0\n",
       "2   2018-01-03  391.0\n",
       "3   2018-01-04  431.0\n",
       "4   2018-01-05  395.0\n",
       "..         ...    ...\n",
       "360 2018-12-27  280.0\n",
       "361 2018-12-28  278.0\n",
       "362 2018-12-29    0.0\n",
       "363 2018-12-30    0.0\n",
       "364 2018-12-31  299.0\n",
       "\n",
       "[365 rows x 2 columns]"
      ]
     },
     "execution_count": 6,
     "metadata": {},
     "output_type": "execute_result"
    }
   ],
   "source": [
    "df"
   ]
  },
  {
   "cell_type": "markdown",
   "id": "b83fc477",
   "metadata": {},
   "source": [
    "## Processing"
   ]
  },
  {
   "cell_type": "code",
   "execution_count": 7,
   "id": "8c7e743a",
   "metadata": {},
   "outputs": [
    {
     "name": "stdout",
     "output_type": "stream",
     "text": [
      "-1\n"
     ]
    }
   ],
   "source": [
    "try:\n",
    "    # Process the input file\n",
    "    processed_df, forecast_df = process_input_file(df)\n",
    "    logging.info(f\"Train Data Size: {processed_df.shape}\")\n",
    "    logging.info(f\"Forecast Data Size: {forecast_df.shape}\")\n",
    "except Exception as e:\n",
    "    # Log this exception or handle it further up the call stack\n",
    "    raise Exception(f\"An error occurred while processing the file: {str(e)}\")"
   ]
  },
  {
   "cell_type": "code",
   "execution_count": 8,
   "id": "7d187e86",
   "metadata": {},
   "outputs": [],
   "source": [
    "# Find the min data for optimal train data\n",
    "run_params[\"historical_start_date\"] = processed_df['ds'].min()\n",
    "run_params[\"historical_end_date\"] = processed_df['ds'].max()\n",
    "run_params[\"forecast_start_date\"] = processed_df['ds'].max() + pd.Timedelta(days=1)\n",
    "run_params[\"forecast_end_date\"] = processed_df['ds'].max() + pd.Timedelta(days=run_params[\"forecast_period\"])"
   ]
  },
  {
   "cell_type": "markdown",
   "id": "44ee6370",
   "metadata": {},
   "source": [
    "## Automated Data Selection"
   ]
  },
  {
   "cell_type": "code",
   "execution_count": 9,
   "id": "44662db2",
   "metadata": {},
   "outputs": [],
   "source": [
    "try:\n",
    "    if data_selection:\n",
    "        \n",
    "        # Find optimal window \n",
    "        optimal_window_size = find_optimal_window(processed_df)\n",
    "            \n",
    "        logging.info(f\"Optimal Window Size: {optimal_window_size}\")\n",
    "\n",
    "        # Add 180 days for feature engineering to optimal window\n",
    "        optimal_window_size += 180\n",
    "\n",
    "    else:\n",
    "        optimal_window_size = len(processed_df)\n",
    "        \n",
    "except Exception as e:\n",
    "    # Log this exception or handle it further up the call stack\n",
    "    raise Exception(f\"An error occurred while finding the optimal window: {str(e)}\")\n",
    "    \n",
    "\n",
    "run_params[\"optimal_window_size\"] = optimal_window_size\n",
    "    \n",
    "# Truncate the train set based on optimal window\n",
    "optimal_df = processed_df[-optimal_window_size:].copy(deep=True)\n",
    "    \n",
    "logging.info(f\"Optimal Train Data Size: {optimal_df.shape}\")\n",
    "\n",
    "# Find the min data for optimal train data\n",
    "run_params[\"optimal_window_start_date\"] = optimal_df['ds'].min()"
   ]
  },
  {
   "cell_type": "code",
   "execution_count": 10,
   "id": "0eb72778",
   "metadata": {},
   "outputs": [
    {
     "data": {
      "text/plain": [
       "365"
      ]
     },
     "execution_count": 10,
     "metadata": {},
     "output_type": "execute_result"
    }
   ],
   "source": [
    "optimal_window_size"
   ]
  },
  {
   "cell_type": "markdown",
   "id": "4740b706",
   "metadata": {},
   "source": [
    "## Final Data Checks"
   ]
  },
  {
   "cell_type": "code",
   "execution_count": 11,
   "id": "3d5fe231",
   "metadata": {},
   "outputs": [],
   "source": [
    "# Set forecast start and end dates\n",
    "min_forecast_date = optimal_df['ds'].min() + pd.Timedelta(days=1)\n",
    "max_forecast_date = min_forecast_date + pd.Timedelta(days=forecast_period)\n",
    "logging.info(f\"Forecast Range: {min_forecast_date} to {max_forecast_date}\")\n",
    "\n",
    "try:\n",
    "    # Validate column counts based on whether external features are used\n",
    "    if external_features:\n",
    "        assert optimal_df.shape[1] > 2 and forecast_df.shape[1] > 2\n",
    "    else:\n",
    "        assert optimal_df.shape[1] == 2 and forecast_df.shape[1] == 2\n",
    "    # Ensure non-empty data structure\n",
    "    assert optimal_df.shape[1] > 0\n",
    "    # Ensure same number of columns\n",
    "    assert optimal_df.shape[1] == forecast_df.shape[1]\n",
    "except Exception as e:\n",
    "    raise ValueError(\"Invalid input data format.\")\n",
    "\n",
    "try:\n",
    "    # Check coverage of forecast period by data\n",
    "    if external_features:\n",
    "        assert forecast_df['ds'].max() > max_forecast_date\n",
    "except Exception as e:\n",
    "    raise Exception(\"Incomplete external variable coverage for forecast period.\")"
   ]
  },
  {
   "cell_type": "code",
   "execution_count": 12,
   "id": "2c13030b",
   "metadata": {},
   "outputs": [],
   "source": [
    "# Get the names of the exogenous variables from the train data\n",
    "run_params[\"exog_cols\"] = list((optimal_df.columns).difference(['y', 'ds']))"
   ]
  },
  {
   "cell_type": "markdown",
   "id": "e4cd1b97",
   "metadata": {},
   "source": [
    "## Feature Engineering"
   ]
  },
  {
   "cell_type": "code",
   "execution_count": 13,
   "id": "e4b720b3",
   "metadata": {},
   "outputs": [],
   "source": [
    "try:\n",
    "    # Generate date features\n",
    "    optimal_df = resample_dataframe(optimal_df, forecast_freq)\n",
    "    forecast_df = resample_dataframe(forecast_df, forecast_freq)\n",
    "except Exception as e:\n",
    "    raise Exception(f\"Failed to set the data frequency to {forecast_freq}: {e}\")"
   ]
  },
  {
   "cell_type": "code",
   "execution_count": 14,
   "id": "a6d36c44",
   "metadata": {},
   "outputs": [],
   "source": [
    "try:\n",
    "    # Generate date features\n",
    "    optimal_df = generate_date_features(optimal_df, forecast_freq, country_name)\n",
    "    forecast_df = generate_date_features(forecast_df, forecast_freq, country_name)\n",
    "except Exception as e:\n",
    "    raise ValueError(f\"Failed to generate features using 'ds': {e}\")"
   ]
  },
  {
   "cell_type": "code",
   "execution_count": 15,
   "id": "6f395d56",
   "metadata": {},
   "outputs": [],
   "source": [
    "# Get the names of the exogenous variables from the train data\n",
    "run_params[\"exog_cols_all\"]  = list((optimal_df.columns).difference(['y', 'ds']))"
   ]
  },
  {
   "cell_type": "code",
   "execution_count": 16,
   "id": "dbe51053",
   "metadata": {},
   "outputs": [],
   "source": [
    "try:\n",
    "    initial_window_size, lag_window_range, rolling_window_range, test_size, test_steps = determine_params(forecast_freq)\n",
    "    logger.info(f\"Initial Window Size: {initial_window_size}, Lag Window Range: {lag_window_range}\")\n",
    "    logger.info(f\"Test Size: {test_size}, Test Steps: {test_steps}\")\n",
    "except Exception as e:\n",
    "    raise Exception(e)"
   ]
  },
  {
   "cell_type": "code",
   "execution_count": 17,
   "id": "f3497778",
   "metadata": {},
   "outputs": [],
   "source": [
    "run_params.update({\n",
    "    \"initial_window_size\": initial_window_size,\n",
    "    \"lag_window_range\": lag_window_range,\n",
    "    \"rolling_window_range\": rolling_window_range,\n",
    "    \"test_size\": test_size,\n",
    "    \"test_steps\": test_steps\n",
    "})"
   ]
  },
  {
   "cell_type": "markdown",
   "id": "1c4cf7b4",
   "metadata": {},
   "source": [
    "## Train and Test Split"
   ]
  },
  {
   "cell_type": "code",
   "execution_count": 18,
   "id": "d4e07f56",
   "metadata": {},
   "outputs": [],
   "source": [
    "try:\n",
    "    test_df = optimal_df[-test_size:].copy(deep=True)\n",
    "    test_df = test_df.set_index('ds').asfreq(forecast_freq)\n",
    "    \n",
    "    train_df = optimal_df[:-test_size].copy(deep=True)\n",
    "    train_df = train_df.set_index('ds').asfreq(forecast_freq)\n",
    "    \n",
    "    assert len(train_df) + len(test_df) == len(optimal_df)\n",
    "    \n",
    "    run_params[\"train_start_date\"] = train_df.index.min()\n",
    "    run_params[\"train_end_date\"] = train_df.index.max()\n",
    "    \n",
    "    run_params[\"test_start_date\"] = test_df.index.min()\n",
    "    run_params[\"test_end_date\"] = test_df.index.max()\n",
    "    \n",
    "except Exception as e:\n",
    "    raise ValueError(f\"Failed to split into train and test: {e}\")"
   ]
  },
  {
   "cell_type": "markdown",
   "id": "22a48e14",
   "metadata": {},
   "source": [
    "## Grid Search"
   ]
  },
  {
   "cell_type": "code",
   "execution_count": 19,
   "id": "15b8d0c5",
   "metadata": {},
   "outputs": [
    {
     "name": "stdout",
     "output_type": "stream",
     "text": [
      "Number of models compared: 1.\n"
     ]
    },
    {
     "data": {
      "application/vnd.jupyter.widget-view+json": {
       "model_id": "c1c03469b119488d9196a038faa67873",
       "version_major": 2,
       "version_minor": 0
      },
      "text/plain": [
       "lags grid:   0%|          | 0/1 [00:00<?, ?it/s]"
      ]
     },
     "metadata": {},
     "output_type": "display_data"
    },
    {
     "data": {
      "application/vnd.jupyter.widget-view+json": {
       "model_id": "",
       "version_major": 2,
       "version_minor": 0
      },
      "text/plain": [
       "params grid:   0%|          | 0/1 [00:00<?, ?it/s]"
      ]
     },
     "metadata": {},
     "output_type": "display_data"
    },
    {
     "name": "stdout",
     "output_type": "stream",
     "text": [
      "Number of models compared: 1.\n"
     ]
    },
    {
     "data": {
      "application/vnd.jupyter.widget-view+json": {
       "model_id": "1f6d84dcd68f44ae99581e2532d4e666",
       "version_major": 2,
       "version_minor": 0
      },
      "text/plain": [
       "lags grid:   0%|          | 0/1 [00:00<?, ?it/s]"
      ]
     },
     "metadata": {},
     "output_type": "display_data"
    },
    {
     "data": {
      "application/vnd.jupyter.widget-view+json": {
       "model_id": "",
       "version_major": 2,
       "version_minor": 0
      },
      "text/plain": [
       "params grid:   0%|          | 0/1 [00:00<?, ?it/s]"
      ]
     },
     "metadata": {},
     "output_type": "display_data"
    },
    {
     "name": "stdout",
     "output_type": "stream",
     "text": [
      "Number of models compared: 1.\n"
     ]
    },
    {
     "data": {
      "application/vnd.jupyter.widget-view+json": {
       "model_id": "bd7041997a8d4bb18cd5ea39597047fe",
       "version_major": 2,
       "version_minor": 0
      },
      "text/plain": [
       "lags grid:   0%|          | 0/1 [00:00<?, ?it/s]"
      ]
     },
     "metadata": {},
     "output_type": "display_data"
    },
    {
     "data": {
      "application/vnd.jupyter.widget-view+json": {
       "model_id": "",
       "version_major": 2,
       "version_minor": 0
      },
      "text/plain": [
       "params grid:   0%|          | 0/1 [00:00<?, ?it/s]"
      ]
     },
     "metadata": {},
     "output_type": "display_data"
    },
    {
     "name": "stdout",
     "output_type": "stream",
     "text": [
      "Number of models compared: 1.\n"
     ]
    },
    {
     "data": {
      "application/vnd.jupyter.widget-view+json": {
       "model_id": "3c917f4b1b9e4de7999347193a4808e0",
       "version_major": 2,
       "version_minor": 0
      },
      "text/plain": [
       "lags grid:   0%|          | 0/1 [00:00<?, ?it/s]"
      ]
     },
     "metadata": {},
     "output_type": "display_data"
    },
    {
     "data": {
      "application/vnd.jupyter.widget-view+json": {
       "model_id": "",
       "version_major": 2,
       "version_minor": 0
      },
      "text/plain": [
       "params grid:   0%|          | 0/1 [00:00<?, ?it/s]"
      ]
     },
     "metadata": {},
     "output_type": "display_data"
    },
    {
     "name": "stdout",
     "output_type": "stream",
     "text": [
      "Number of models compared: 1.\n"
     ]
    },
    {
     "data": {
      "application/vnd.jupyter.widget-view+json": {
       "model_id": "b4e80c6335ae489291fb7745fa71410f",
       "version_major": 2,
       "version_minor": 0
      },
      "text/plain": [
       "lags grid:   0%|          | 0/1 [00:00<?, ?it/s]"
      ]
     },
     "metadata": {},
     "output_type": "display_data"
    },
    {
     "data": {
      "application/vnd.jupyter.widget-view+json": {
       "model_id": "",
       "version_major": 2,
       "version_minor": 0
      },
      "text/plain": [
       "params grid:   0%|          | 0/1 [00:00<?, ?it/s]"
      ]
     },
     "metadata": {},
     "output_type": "display_data"
    },
    {
     "name": "stdout",
     "output_type": "stream",
     "text": [
      "Number of models compared: 1.\n"
     ]
    },
    {
     "data": {
      "application/vnd.jupyter.widget-view+json": {
       "model_id": "9984eaed931c436e97dd84fd1728040c",
       "version_major": 2,
       "version_minor": 0
      },
      "text/plain": [
       "lags grid:   0%|          | 0/1 [00:00<?, ?it/s]"
      ]
     },
     "metadata": {},
     "output_type": "display_data"
    },
    {
     "data": {
      "application/vnd.jupyter.widget-view+json": {
       "model_id": "",
       "version_major": 2,
       "version_minor": 0
      },
      "text/plain": [
       "params grid:   0%|          | 0/1 [00:00<?, ?it/s]"
      ]
     },
     "metadata": {},
     "output_type": "display_data"
    },
    {
     "name": "stdout",
     "output_type": "stream",
     "text": [
      "Number of models compared: 1.\n"
     ]
    },
    {
     "data": {
      "application/vnd.jupyter.widget-view+json": {
       "model_id": "c74ccd3e0b244ffdb4da80f58e1d5d11",
       "version_major": 2,
       "version_minor": 0
      },
      "text/plain": [
       "lags grid:   0%|          | 0/1 [00:00<?, ?it/s]"
      ]
     },
     "metadata": {},
     "output_type": "display_data"
    },
    {
     "data": {
      "application/vnd.jupyter.widget-view+json": {
       "model_id": "",
       "version_major": 2,
       "version_minor": 0
      },
      "text/plain": [
       "params grid:   0%|          | 0/1 [00:00<?, ?it/s]"
      ]
     },
     "metadata": {},
     "output_type": "display_data"
    },
    {
     "name": "stdout",
     "output_type": "stream",
     "text": [
      "Number of models compared: 1.\n"
     ]
    },
    {
     "data": {
      "application/vnd.jupyter.widget-view+json": {
       "model_id": "d30f2e33e3104e76b17f4dba5b9409de",
       "version_major": 2,
       "version_minor": 0
      },
      "text/plain": [
       "lags grid:   0%|          | 0/1 [00:00<?, ?it/s]"
      ]
     },
     "metadata": {},
     "output_type": "display_data"
    },
    {
     "data": {
      "application/vnd.jupyter.widget-view+json": {
       "model_id": "",
       "version_major": 2,
       "version_minor": 0
      },
      "text/plain": [
       "params grid:   0%|          | 0/1 [00:00<?, ?it/s]"
      ]
     },
     "metadata": {},
     "output_type": "display_data"
    },
    {
     "name": "stdout",
     "output_type": "stream",
     "text": [
      "Number of models compared: 1.\n"
     ]
    },
    {
     "data": {
      "application/vnd.jupyter.widget-view+json": {
       "model_id": "40f4d24635fe4f0ab8eacb34fb0574f8",
       "version_major": 2,
       "version_minor": 0
      },
      "text/plain": [
       "lags grid:   0%|          | 0/1 [00:00<?, ?it/s]"
      ]
     },
     "metadata": {},
     "output_type": "display_data"
    },
    {
     "data": {
      "application/vnd.jupyter.widget-view+json": {
       "model_id": "",
       "version_major": 2,
       "version_minor": 0
      },
      "text/plain": [
       "params grid:   0%|          | 0/1 [00:00<?, ?it/s]"
      ]
     },
     "metadata": {},
     "output_type": "display_data"
    },
    {
     "name": "stdout",
     "output_type": "stream",
     "text": [
      "Number of models compared: 1.\n"
     ]
    },
    {
     "data": {
      "application/vnd.jupyter.widget-view+json": {
       "model_id": "c31556c172e04dbf828b67f3fbcd035c",
       "version_major": 2,
       "version_minor": 0
      },
      "text/plain": [
       "lags grid:   0%|          | 0/1 [00:00<?, ?it/s]"
      ]
     },
     "metadata": {},
     "output_type": "display_data"
    },
    {
     "data": {
      "application/vnd.jupyter.widget-view+json": {
       "model_id": "",
       "version_major": 2,
       "version_minor": 0
      },
      "text/plain": [
       "params grid:   0%|          | 0/1 [00:00<?, ?it/s]"
      ]
     },
     "metadata": {},
     "output_type": "display_data"
    },
    {
     "name": "stdout",
     "output_type": "stream",
     "text": [
      "Fitting 10 folds for each of 1 candidates, totalling 10 fits\n"
     ]
    },
    {
     "name": "stderr",
     "output_type": "stream",
     "text": [
      "INFO:prophet:Disabling yearly seasonality. Run prophet with yearly_seasonality=True to override this.\n",
      "2024-06-23 09:57:41,991 - prophet - INFO - Disabling yearly seasonality. Run prophet with yearly_seasonality=True to override this.\n",
      "INFO:prophet:Disabling daily seasonality. Run prophet with daily_seasonality=True to override this.\n",
      "2024-06-23 09:57:41,992 - prophet - INFO - Disabling daily seasonality. Run prophet with daily_seasonality=True to override this.\n",
      "DEBUG:cmdstanpy:input tempfile: /var/folders/4t/nrkfp1595tb366616gpf9d540000gn/T/tmpgu1sbioo/2p1ja1tj.json\n",
      "DEBUG:cmdstanpy:input tempfile: /var/folders/4t/nrkfp1595tb366616gpf9d540000gn/T/tmpgu1sbioo/ivd2j271.json\n",
      "DEBUG:cmdstanpy:idx 0\n",
      "DEBUG:cmdstanpy:running CmdStan, num_threads: None\n",
      "DEBUG:cmdstanpy:CmdStan args: ['/Users/abhishekagarwal/opt/anaconda3/lib/python3.9/site-packages/prophet/stan_model/prophet_model.bin', 'random', 'seed=15478', 'data', 'file=/var/folders/4t/nrkfp1595tb366616gpf9d540000gn/T/tmpgu1sbioo/2p1ja1tj.json', 'init=/var/folders/4t/nrkfp1595tb366616gpf9d540000gn/T/tmpgu1sbioo/ivd2j271.json', 'output', 'file=/var/folders/4t/nrkfp1595tb366616gpf9d540000gn/T/tmpgu1sbioo/prophet_model8kec7uwb/prophet_model-20240623095742.csv', 'method=optimize', 'algorithm=lbfgs', 'iter=10000']\n",
      "09:57:42 - cmdstanpy - INFO - Chain [1] start processing\n",
      "INFO:cmdstanpy:Chain [1] start processing\n",
      "2024-06-23 09:57:42,021 - cmdstanpy - INFO - Chain [1] start processing\n",
      "09:57:42 - cmdstanpy - INFO - Chain [1] done processing\n",
      "INFO:cmdstanpy:Chain [1] done processing\n",
      "2024-06-23 09:57:42,054 - cmdstanpy - INFO - Chain [1] done processing\n",
      "INFO:prophet:Disabling yearly seasonality. Run prophet with yearly_seasonality=True to override this.\n",
      "2024-06-23 09:57:42,074 - prophet - INFO - Disabling yearly seasonality. Run prophet with yearly_seasonality=True to override this.\n",
      "INFO:prophet:Disabling daily seasonality. Run prophet with daily_seasonality=True to override this.\n",
      "2024-06-23 09:57:42,075 - prophet - INFO - Disabling daily seasonality. Run prophet with daily_seasonality=True to override this.\n",
      "DEBUG:cmdstanpy:input tempfile: /var/folders/4t/nrkfp1595tb366616gpf9d540000gn/T/tmpgu1sbioo/m21_dagz.json\n",
      "DEBUG:cmdstanpy:input tempfile: /var/folders/4t/nrkfp1595tb366616gpf9d540000gn/T/tmpgu1sbioo/hc7n1z86.json\n",
      "DEBUG:cmdstanpy:idx 0\n",
      "DEBUG:cmdstanpy:running CmdStan, num_threads: None\n",
      "DEBUG:cmdstanpy:CmdStan args: ['/Users/abhishekagarwal/opt/anaconda3/lib/python3.9/site-packages/prophet/stan_model/prophet_model.bin', 'random', 'seed=87056', 'data', 'file=/var/folders/4t/nrkfp1595tb366616gpf9d540000gn/T/tmpgu1sbioo/m21_dagz.json', 'init=/var/folders/4t/nrkfp1595tb366616gpf9d540000gn/T/tmpgu1sbioo/hc7n1z86.json', 'output', 'file=/var/folders/4t/nrkfp1595tb366616gpf9d540000gn/T/tmpgu1sbioo/prophet_modeltk9i7pkd/prophet_model-20240623095742.csv', 'method=optimize', 'algorithm=lbfgs', 'iter=10000']\n",
      "09:57:42 - cmdstanpy - INFO - Chain [1] start processing\n",
      "INFO:cmdstanpy:Chain [1] start processing\n",
      "2024-06-23 09:57:42,101 - cmdstanpy - INFO - Chain [1] start processing\n",
      "09:57:42 - cmdstanpy - INFO - Chain [1] done processing\n",
      "INFO:cmdstanpy:Chain [1] done processing\n",
      "2024-06-23 09:57:42,132 - cmdstanpy - INFO - Chain [1] done processing\n"
     ]
    },
    {
     "name": "stdout",
     "output_type": "stream",
     "text": [
      "Fitting 10 folds for each of 1 candidates, totalling 10 fits\n"
     ]
    }
   ],
   "source": [
    "current_dir = 'utils/modeling'\n",
    "\n",
    "search_results = {}\n",
    "\n",
    "for model_type in ['random_forest', 'xgboost']:\n",
    "    # Load parameters for grid search\n",
    "    model, param_grid = load_model_params_and_create_instance(model_type, current_dir)\n",
    "    \n",
    "    # Find best model\n",
    "    best_configuration, all_results, best_model = find_best_model_skforecast(\n",
    "        lag_window_range, model, train_df, param_grid, run_params\n",
    "    )\n",
    "    \n",
    "    # Save best model and config\n",
    "    search_results[model_type] = {\n",
    "        'best_model': best_model,\n",
    "        'best_configuration': best_configuration,\n",
    "        'all_results': all_results,\n",
    "        'package_type': 'skforecast'\n",
    "    }\n",
    "    \n",
    "    \n",
    "for model_type in ['prophet', 'naive']:\n",
    "    # Load parameters for grid search\n",
    "    model, param_grid = load_model_params_and_create_instance(model_type, current_dir)\n",
    "    \n",
    "    # Find best model\n",
    "    best_configuration, all_results, best_model = find_best_model_sktime(\n",
    "        train_df['y'], run_params, model, param_grid\n",
    "    )\n",
    "    \n",
    "    # Save best model and config\n",
    "    search_results[model_type] = {\n",
    "        'best_model': best_model,\n",
    "        'best_configuration': best_configuration,\n",
    "        'all_results': all_results,\n",
    "        'package_type': 'sktime'\n",
    "    }"
   ]
  },
  {
   "cell_type": "markdown",
   "id": "933d4d30",
   "metadata": {},
   "source": [
    "## Test Set Evaluation"
   ]
  },
  {
   "cell_type": "code",
   "execution_count": 20,
   "id": "2d5c1c99",
   "metadata": {},
   "outputs": [
    {
     "name": "stderr",
     "output_type": "stream",
     "text": [
      "INFO:prophet:Disabling yearly seasonality. Run prophet with yearly_seasonality=True to override this.\n",
      "2024-06-23 09:57:43,526 - prophet - INFO - Disabling yearly seasonality. Run prophet with yearly_seasonality=True to override this.\n",
      "INFO:prophet:Disabling daily seasonality. Run prophet with daily_seasonality=True to override this.\n",
      "2024-06-23 09:57:43,527 - prophet - INFO - Disabling daily seasonality. Run prophet with daily_seasonality=True to override this.\n",
      "DEBUG:cmdstanpy:input tempfile: /var/folders/4t/nrkfp1595tb366616gpf9d540000gn/T/tmpgu1sbioo/c479ebtv.json\n",
      "DEBUG:cmdstanpy:input tempfile: /var/folders/4t/nrkfp1595tb366616gpf9d540000gn/T/tmpgu1sbioo/p5srkdye.json\n",
      "DEBUG:cmdstanpy:idx 0\n",
      "DEBUG:cmdstanpy:running CmdStan, num_threads: None\n",
      "DEBUG:cmdstanpy:CmdStan args: ['/Users/abhishekagarwal/opt/anaconda3/lib/python3.9/site-packages/prophet/stan_model/prophet_model.bin', 'random', 'seed=26025', 'data', 'file=/var/folders/4t/nrkfp1595tb366616gpf9d540000gn/T/tmpgu1sbioo/c479ebtv.json', 'init=/var/folders/4t/nrkfp1595tb366616gpf9d540000gn/T/tmpgu1sbioo/p5srkdye.json', 'output', 'file=/var/folders/4t/nrkfp1595tb366616gpf9d540000gn/T/tmpgu1sbioo/prophet_model01qrf_7q/prophet_model-20240623095743.csv', 'method=optimize', 'algorithm=lbfgs', 'iter=10000']\n",
      "09:57:43 - cmdstanpy - INFO - Chain [1] start processing\n",
      "INFO:cmdstanpy:Chain [1] start processing\n",
      "2024-06-23 09:57:43,555 - cmdstanpy - INFO - Chain [1] start processing\n",
      "09:57:43 - cmdstanpy - INFO - Chain [1] done processing\n",
      "INFO:cmdstanpy:Chain [1] done processing\n",
      "2024-06-23 09:57:43,588 - cmdstanpy - INFO - Chain [1] done processing\n"
     ]
    },
    {
     "data": {
      "text/html": [
       "<div>\n",
       "<style scoped>\n",
       "    .dataframe tbody tr th:only-of-type {\n",
       "        vertical-align: middle;\n",
       "    }\n",
       "\n",
       "    .dataframe tbody tr th {\n",
       "        vertical-align: top;\n",
       "    }\n",
       "\n",
       "    .dataframe thead th {\n",
       "        text-align: right;\n",
       "    }\n",
       "</style>\n",
       "<table border=\"1\" class=\"dataframe\">\n",
       "  <thead>\n",
       "    <tr style=\"text-align: right;\">\n",
       "      <th></th>\n",
       "      <th>ds</th>\n",
       "      <th>y_pred</th>\n",
       "      <th>min_pred</th>\n",
       "      <th>max_pred</th>\n",
       "    </tr>\n",
       "  </thead>\n",
       "  <tbody>\n",
       "    <tr>\n",
       "      <th>0</th>\n",
       "      <td>2018-12-02</td>\n",
       "      <td>16.476869</td>\n",
       "      <td>-72.109540</td>\n",
       "      <td>112.623233</td>\n",
       "    </tr>\n",
       "    <tr>\n",
       "      <th>1</th>\n",
       "      <td>2018-12-03</td>\n",
       "      <td>321.821408</td>\n",
       "      <td>222.228378</td>\n",
       "      <td>417.262439</td>\n",
       "    </tr>\n",
       "    <tr>\n",
       "      <th>2</th>\n",
       "      <td>2018-12-04</td>\n",
       "      <td>349.966183</td>\n",
       "      <td>253.328865</td>\n",
       "      <td>443.595518</td>\n",
       "    </tr>\n",
       "    <tr>\n",
       "      <th>3</th>\n",
       "      <td>2018-12-05</td>\n",
       "      <td>324.809638</td>\n",
       "      <td>231.648070</td>\n",
       "      <td>421.108353</td>\n",
       "    </tr>\n",
       "    <tr>\n",
       "      <th>4</th>\n",
       "      <td>2018-12-06</td>\n",
       "      <td>311.461711</td>\n",
       "      <td>215.192698</td>\n",
       "      <td>406.102719</td>\n",
       "    </tr>\n",
       "    <tr>\n",
       "      <th>5</th>\n",
       "      <td>2018-12-07</td>\n",
       "      <td>300.084428</td>\n",
       "      <td>205.627870</td>\n",
       "      <td>395.058986</td>\n",
       "    </tr>\n",
       "    <tr>\n",
       "      <th>6</th>\n",
       "      <td>2018-12-08</td>\n",
       "      <td>16.275035</td>\n",
       "      <td>-81.919747</td>\n",
       "      <td>110.203283</td>\n",
       "    </tr>\n",
       "    <tr>\n",
       "      <th>7</th>\n",
       "      <td>2018-12-09</td>\n",
       "      <td>16.433143</td>\n",
       "      <td>-85.572413</td>\n",
       "      <td>107.613539</td>\n",
       "    </tr>\n",
       "    <tr>\n",
       "      <th>8</th>\n",
       "      <td>2018-12-10</td>\n",
       "      <td>320.967026</td>\n",
       "      <td>222.537752</td>\n",
       "      <td>416.711190</td>\n",
       "    </tr>\n",
       "    <tr>\n",
       "      <th>9</th>\n",
       "      <td>2018-12-11</td>\n",
       "      <td>349.036729</td>\n",
       "      <td>248.321754</td>\n",
       "      <td>441.294058</td>\n",
       "    </tr>\n",
       "    <tr>\n",
       "      <th>10</th>\n",
       "      <td>2018-12-12</td>\n",
       "      <td>323.946669</td>\n",
       "      <td>225.150661</td>\n",
       "      <td>413.942460</td>\n",
       "    </tr>\n",
       "    <tr>\n",
       "      <th>11</th>\n",
       "      <td>2018-12-13</td>\n",
       "      <td>310.633891</td>\n",
       "      <td>216.479937</td>\n",
       "      <td>414.053728</td>\n",
       "    </tr>\n",
       "    <tr>\n",
       "      <th>12</th>\n",
       "      <td>2018-12-14</td>\n",
       "      <td>299.286544</td>\n",
       "      <td>201.389686</td>\n",
       "      <td>400.218679</td>\n",
       "    </tr>\n",
       "    <tr>\n",
       "      <th>13</th>\n",
       "      <td>2018-12-15</td>\n",
       "      <td>16.231746</td>\n",
       "      <td>-75.403089</td>\n",
       "      <td>114.669985</td>\n",
       "    </tr>\n",
       "    <tr>\n",
       "      <th>14</th>\n",
       "      <td>2018-12-16</td>\n",
       "      <td>16.389416</td>\n",
       "      <td>-79.634875</td>\n",
       "      <td>114.483301</td>\n",
       "    </tr>\n",
       "    <tr>\n",
       "      <th>15</th>\n",
       "      <td>2018-12-17</td>\n",
       "      <td>320.112645</td>\n",
       "      <td>215.581999</td>\n",
       "      <td>408.839107</td>\n",
       "    </tr>\n",
       "    <tr>\n",
       "      <th>16</th>\n",
       "      <td>2018-12-18</td>\n",
       "      <td>348.107276</td>\n",
       "      <td>249.716234</td>\n",
       "      <td>444.885079</td>\n",
       "    </tr>\n",
       "    <tr>\n",
       "      <th>17</th>\n",
       "      <td>2018-12-19</td>\n",
       "      <td>323.083700</td>\n",
       "      <td>231.469682</td>\n",
       "      <td>418.160569</td>\n",
       "    </tr>\n",
       "    <tr>\n",
       "      <th>18</th>\n",
       "      <td>2018-12-20</td>\n",
       "      <td>309.806071</td>\n",
       "      <td>211.232332</td>\n",
       "      <td>401.524780</td>\n",
       "    </tr>\n",
       "    <tr>\n",
       "      <th>19</th>\n",
       "      <td>2018-12-21</td>\n",
       "      <td>298.488660</td>\n",
       "      <td>202.505205</td>\n",
       "      <td>402.415609</td>\n",
       "    </tr>\n",
       "    <tr>\n",
       "      <th>20</th>\n",
       "      <td>2018-12-22</td>\n",
       "      <td>16.188456</td>\n",
       "      <td>-82.932473</td>\n",
       "      <td>112.181918</td>\n",
       "    </tr>\n",
       "    <tr>\n",
       "      <th>21</th>\n",
       "      <td>2018-12-23</td>\n",
       "      <td>16.345689</td>\n",
       "      <td>-83.341064</td>\n",
       "      <td>115.509179</td>\n",
       "    </tr>\n",
       "    <tr>\n",
       "      <th>22</th>\n",
       "      <td>2018-12-24</td>\n",
       "      <td>319.258264</td>\n",
       "      <td>221.490727</td>\n",
       "      <td>416.208381</td>\n",
       "    </tr>\n",
       "    <tr>\n",
       "      <th>23</th>\n",
       "      <td>2018-12-25</td>\n",
       "      <td>347.177822</td>\n",
       "      <td>249.331619</td>\n",
       "      <td>445.043406</td>\n",
       "    </tr>\n",
       "    <tr>\n",
       "      <th>24</th>\n",
       "      <td>2018-12-26</td>\n",
       "      <td>322.220731</td>\n",
       "      <td>227.604926</td>\n",
       "      <td>421.167822</td>\n",
       "    </tr>\n",
       "    <tr>\n",
       "      <th>25</th>\n",
       "      <td>2018-12-27</td>\n",
       "      <td>308.978251</td>\n",
       "      <td>213.825552</td>\n",
       "      <td>408.336087</td>\n",
       "    </tr>\n",
       "    <tr>\n",
       "      <th>26</th>\n",
       "      <td>2018-12-28</td>\n",
       "      <td>297.690776</td>\n",
       "      <td>202.037706</td>\n",
       "      <td>389.171704</td>\n",
       "    </tr>\n",
       "    <tr>\n",
       "      <th>27</th>\n",
       "      <td>2018-12-29</td>\n",
       "      <td>16.145167</td>\n",
       "      <td>-75.462408</td>\n",
       "      <td>108.214968</td>\n",
       "    </tr>\n",
       "    <tr>\n",
       "      <th>28</th>\n",
       "      <td>2018-12-30</td>\n",
       "      <td>16.301962</td>\n",
       "      <td>-75.484815</td>\n",
       "      <td>113.134797</td>\n",
       "    </tr>\n",
       "    <tr>\n",
       "      <th>29</th>\n",
       "      <td>2018-12-31</td>\n",
       "      <td>318.403882</td>\n",
       "      <td>225.619822</td>\n",
       "      <td>415.651727</td>\n",
       "    </tr>\n",
       "  </tbody>\n",
       "</table>\n",
       "</div>"
      ],
      "text/plain": [
       "           ds      y_pred    min_pred    max_pred\n",
       "0  2018-12-02   16.476869  -72.109540  112.623233\n",
       "1  2018-12-03  321.821408  222.228378  417.262439\n",
       "2  2018-12-04  349.966183  253.328865  443.595518\n",
       "3  2018-12-05  324.809638  231.648070  421.108353\n",
       "4  2018-12-06  311.461711  215.192698  406.102719\n",
       "5  2018-12-07  300.084428  205.627870  395.058986\n",
       "6  2018-12-08   16.275035  -81.919747  110.203283\n",
       "7  2018-12-09   16.433143  -85.572413  107.613539\n",
       "8  2018-12-10  320.967026  222.537752  416.711190\n",
       "9  2018-12-11  349.036729  248.321754  441.294058\n",
       "10 2018-12-12  323.946669  225.150661  413.942460\n",
       "11 2018-12-13  310.633891  216.479937  414.053728\n",
       "12 2018-12-14  299.286544  201.389686  400.218679\n",
       "13 2018-12-15   16.231746  -75.403089  114.669985\n",
       "14 2018-12-16   16.389416  -79.634875  114.483301\n",
       "15 2018-12-17  320.112645  215.581999  408.839107\n",
       "16 2018-12-18  348.107276  249.716234  444.885079\n",
       "17 2018-12-19  323.083700  231.469682  418.160569\n",
       "18 2018-12-20  309.806071  211.232332  401.524780\n",
       "19 2018-12-21  298.488660  202.505205  402.415609\n",
       "20 2018-12-22   16.188456  -82.932473  112.181918\n",
       "21 2018-12-23   16.345689  -83.341064  115.509179\n",
       "22 2018-12-24  319.258264  221.490727  416.208381\n",
       "23 2018-12-25  347.177822  249.331619  445.043406\n",
       "24 2018-12-26  322.220731  227.604926  421.167822\n",
       "25 2018-12-27  308.978251  213.825552  408.336087\n",
       "26 2018-12-28  297.690776  202.037706  389.171704\n",
       "27 2018-12-29   16.145167  -75.462408  108.214968\n",
       "28 2018-12-30   16.301962  -75.484815  113.134797\n",
       "29 2018-12-31  318.403882  225.619822  415.651727"
      ]
     },
     "execution_count": 20,
     "metadata": {},
     "output_type": "execute_result"
    }
   ],
   "source": [
    "best_model = search_results['prophet']['best_model']\n",
    "best_model.fit(y=train_df['y'])\n",
    "generate_forecast_sktime(best_model, 30)"
   ]
  },
  {
   "cell_type": "code",
   "execution_count": 21,
   "id": "f32eb506",
   "metadata": {},
   "outputs": [],
   "source": [
    "best_model = search_results['random_forest']['best_model']\n",
    "best_model.fit(y=train_df['y'], exog=train_df[run_params[\"exog_cols_all\"]])"
   ]
  },
  {
   "cell_type": "code",
   "execution_count": 22,
   "id": "24917b4e",
   "metadata": {},
   "outputs": [
    {
     "data": {
      "text/html": [
       "<div>\n",
       "<style scoped>\n",
       "    .dataframe tbody tr th:only-of-type {\n",
       "        vertical-align: middle;\n",
       "    }\n",
       "\n",
       "    .dataframe tbody tr th {\n",
       "        vertical-align: top;\n",
       "    }\n",
       "\n",
       "    .dataframe thead th {\n",
       "        text-align: right;\n",
       "    }\n",
       "</style>\n",
       "<table border=\"1\" class=\"dataframe\">\n",
       "  <thead>\n",
       "    <tr style=\"text-align: right;\">\n",
       "      <th></th>\n",
       "      <th>ds</th>\n",
       "      <th>y_pred</th>\n",
       "      <th>min_pred</th>\n",
       "      <th>max_pred</th>\n",
       "    </tr>\n",
       "  </thead>\n",
       "  <tbody>\n",
       "    <tr>\n",
       "      <th>0</th>\n",
       "      <td>2018-12-02</td>\n",
       "      <td>0.128795</td>\n",
       "      <td>-40.662935</td>\n",
       "      <td>51.775708</td>\n",
       "    </tr>\n",
       "    <tr>\n",
       "      <th>1</th>\n",
       "      <td>2018-12-03</td>\n",
       "      <td>301.701402</td>\n",
       "      <td>278.317365</td>\n",
       "      <td>371.868564</td>\n",
       "    </tr>\n",
       "    <tr>\n",
       "      <th>2</th>\n",
       "      <td>2018-12-04</td>\n",
       "      <td>331.730097</td>\n",
       "      <td>285.868052</td>\n",
       "      <td>395.058669</td>\n",
       "    </tr>\n",
       "    <tr>\n",
       "      <th>3</th>\n",
       "      <td>2018-12-05</td>\n",
       "      <td>319.382581</td>\n",
       "      <td>179.377910</td>\n",
       "      <td>370.722927</td>\n",
       "    </tr>\n",
       "    <tr>\n",
       "      <th>4</th>\n",
       "      <td>2018-12-06</td>\n",
       "      <td>323.474521</td>\n",
       "      <td>267.397214</td>\n",
       "      <td>382.948702</td>\n",
       "    </tr>\n",
       "    <tr>\n",
       "      <th>5</th>\n",
       "      <td>2018-12-07</td>\n",
       "      <td>308.138399</td>\n",
       "      <td>293.578125</td>\n",
       "      <td>384.038684</td>\n",
       "    </tr>\n",
       "    <tr>\n",
       "      <th>6</th>\n",
       "      <td>2018-12-08</td>\n",
       "      <td>0.281346</td>\n",
       "      <td>-45.745426</td>\n",
       "      <td>54.834958</td>\n",
       "    </tr>\n",
       "    <tr>\n",
       "      <th>7</th>\n",
       "      <td>2018-12-09</td>\n",
       "      <td>0.090617</td>\n",
       "      <td>-20.278804</td>\n",
       "      <td>48.863218</td>\n",
       "    </tr>\n",
       "    <tr>\n",
       "      <th>8</th>\n",
       "      <td>2018-12-10</td>\n",
       "      <td>301.701402</td>\n",
       "      <td>256.708968</td>\n",
       "      <td>366.813984</td>\n",
       "    </tr>\n",
       "    <tr>\n",
       "      <th>9</th>\n",
       "      <td>2018-12-11</td>\n",
       "      <td>331.730097</td>\n",
       "      <td>264.015908</td>\n",
       "      <td>383.189429</td>\n",
       "    </tr>\n",
       "    <tr>\n",
       "      <th>10</th>\n",
       "      <td>2018-12-12</td>\n",
       "      <td>325.002966</td>\n",
       "      <td>281.716185</td>\n",
       "      <td>373.371598</td>\n",
       "    </tr>\n",
       "    <tr>\n",
       "      <th>11</th>\n",
       "      <td>2018-12-13</td>\n",
       "      <td>313.758784</td>\n",
       "      <td>280.744729</td>\n",
       "      <td>378.080850</td>\n",
       "    </tr>\n",
       "    <tr>\n",
       "      <th>12</th>\n",
       "      <td>2018-12-14</td>\n",
       "      <td>323.474521</td>\n",
       "      <td>288.884624</td>\n",
       "      <td>366.595774</td>\n",
       "    </tr>\n",
       "    <tr>\n",
       "      <th>13</th>\n",
       "      <td>2018-12-15</td>\n",
       "      <td>0.278013</td>\n",
       "      <td>-40.368601</td>\n",
       "      <td>55.814144</td>\n",
       "    </tr>\n",
       "    <tr>\n",
       "      <th>14</th>\n",
       "      <td>2018-12-16</td>\n",
       "      <td>0.090617</td>\n",
       "      <td>-53.434367</td>\n",
       "      <td>45.378061</td>\n",
       "    </tr>\n",
       "    <tr>\n",
       "      <th>15</th>\n",
       "      <td>2018-12-17</td>\n",
       "      <td>301.701402</td>\n",
       "      <td>158.135368</td>\n",
       "      <td>376.343640</td>\n",
       "    </tr>\n",
       "    <tr>\n",
       "      <th>16</th>\n",
       "      <td>2018-12-18</td>\n",
       "      <td>331.730097</td>\n",
       "      <td>300.873327</td>\n",
       "      <td>381.520454</td>\n",
       "    </tr>\n",
       "    <tr>\n",
       "      <th>17</th>\n",
       "      <td>2018-12-19</td>\n",
       "      <td>325.002966</td>\n",
       "      <td>264.421929</td>\n",
       "      <td>380.690287</td>\n",
       "    </tr>\n",
       "    <tr>\n",
       "      <th>18</th>\n",
       "      <td>2018-12-20</td>\n",
       "      <td>313.758784</td>\n",
       "      <td>293.235296</td>\n",
       "      <td>377.902510</td>\n",
       "    </tr>\n",
       "    <tr>\n",
       "      <th>19</th>\n",
       "      <td>2018-12-21</td>\n",
       "      <td>323.474521</td>\n",
       "      <td>274.421718</td>\n",
       "      <td>370.635697</td>\n",
       "    </tr>\n",
       "    <tr>\n",
       "      <th>20</th>\n",
       "      <td>2018-12-22</td>\n",
       "      <td>0.319604</td>\n",
       "      <td>-36.669107</td>\n",
       "      <td>43.341696</td>\n",
       "    </tr>\n",
       "    <tr>\n",
       "      <th>21</th>\n",
       "      <td>2018-12-23</td>\n",
       "      <td>0.090617</td>\n",
       "      <td>-46.633531</td>\n",
       "      <td>67.538790</td>\n",
       "    </tr>\n",
       "    <tr>\n",
       "      <th>22</th>\n",
       "      <td>2018-12-24</td>\n",
       "      <td>301.701402</td>\n",
       "      <td>278.666700</td>\n",
       "      <td>393.035380</td>\n",
       "    </tr>\n",
       "    <tr>\n",
       "      <th>23</th>\n",
       "      <td>2018-12-25</td>\n",
       "      <td>278.789092</td>\n",
       "      <td>229.694846</td>\n",
       "      <td>329.294705</td>\n",
       "    </tr>\n",
       "    <tr>\n",
       "      <th>24</th>\n",
       "      <td>2018-12-26</td>\n",
       "      <td>272.564302</td>\n",
       "      <td>222.369483</td>\n",
       "      <td>329.309535</td>\n",
       "    </tr>\n",
       "    <tr>\n",
       "      <th>25</th>\n",
       "      <td>2018-12-27</td>\n",
       "      <td>323.474521</td>\n",
       "      <td>286.066098</td>\n",
       "      <td>386.807737</td>\n",
       "    </tr>\n",
       "    <tr>\n",
       "      <th>26</th>\n",
       "      <td>2018-12-28</td>\n",
       "      <td>323.971136</td>\n",
       "      <td>287.290133</td>\n",
       "      <td>384.072797</td>\n",
       "    </tr>\n",
       "    <tr>\n",
       "      <th>27</th>\n",
       "      <td>2018-12-29</td>\n",
       "      <td>0.298357</td>\n",
       "      <td>-40.201014</td>\n",
       "      <td>55.417225</td>\n",
       "    </tr>\n",
       "    <tr>\n",
       "      <th>28</th>\n",
       "      <td>2018-12-30</td>\n",
       "      <td>0.128795</td>\n",
       "      <td>-53.241286</td>\n",
       "      <td>54.679046</td>\n",
       "    </tr>\n",
       "    <tr>\n",
       "      <th>29</th>\n",
       "      <td>2018-12-31</td>\n",
       "      <td>301.701402</td>\n",
       "      <td>272.355185</td>\n",
       "      <td>378.196738</td>\n",
       "    </tr>\n",
       "  </tbody>\n",
       "</table>\n",
       "</div>"
      ],
      "text/plain": [
       "           ds      y_pred    min_pred    max_pred\n",
       "0  2018-12-02    0.128795  -40.662935   51.775708\n",
       "1  2018-12-03  301.701402  278.317365  371.868564\n",
       "2  2018-12-04  331.730097  285.868052  395.058669\n",
       "3  2018-12-05  319.382581  179.377910  370.722927\n",
       "4  2018-12-06  323.474521  267.397214  382.948702\n",
       "5  2018-12-07  308.138399  293.578125  384.038684\n",
       "6  2018-12-08    0.281346  -45.745426   54.834958\n",
       "7  2018-12-09    0.090617  -20.278804   48.863218\n",
       "8  2018-12-10  301.701402  256.708968  366.813984\n",
       "9  2018-12-11  331.730097  264.015908  383.189429\n",
       "10 2018-12-12  325.002966  281.716185  373.371598\n",
       "11 2018-12-13  313.758784  280.744729  378.080850\n",
       "12 2018-12-14  323.474521  288.884624  366.595774\n",
       "13 2018-12-15    0.278013  -40.368601   55.814144\n",
       "14 2018-12-16    0.090617  -53.434367   45.378061\n",
       "15 2018-12-17  301.701402  158.135368  376.343640\n",
       "16 2018-12-18  331.730097  300.873327  381.520454\n",
       "17 2018-12-19  325.002966  264.421929  380.690287\n",
       "18 2018-12-20  313.758784  293.235296  377.902510\n",
       "19 2018-12-21  323.474521  274.421718  370.635697\n",
       "20 2018-12-22    0.319604  -36.669107   43.341696\n",
       "21 2018-12-23    0.090617  -46.633531   67.538790\n",
       "22 2018-12-24  301.701402  278.666700  393.035380\n",
       "23 2018-12-25  278.789092  229.694846  329.294705\n",
       "24 2018-12-26  272.564302  222.369483  329.309535\n",
       "25 2018-12-27  323.474521  286.066098  386.807737\n",
       "26 2018-12-28  323.971136  287.290133  384.072797\n",
       "27 2018-12-29    0.298357  -40.201014   55.417225\n",
       "28 2018-12-30    0.128795  -53.241286   54.679046\n",
       "29 2018-12-31  301.701402  272.355185  378.196738"
      ]
     },
     "execution_count": 22,
     "metadata": {},
     "output_type": "execute_result"
    }
   ],
   "source": [
    " generate_forecast_skforecast(best_model, run_params, train_df['y'], forecast_df,\n",
    "                              run_params[\"test_start_date\"], 30)"
   ]
  },
  {
   "cell_type": "markdown",
   "id": "8e9f5ac6",
   "metadata": {},
   "source": [
    "# add check if forecast df euqla, to forcats period"
   ]
  }
 ],
 "metadata": {
  "kernelspec": {
   "display_name": "Python 3 (ipykernel)",
   "language": "python",
   "name": "python3"
  },
  "language_info": {
   "codemirror_mode": {
    "name": "ipython",
    "version": 3
   },
   "file_extension": ".py",
   "mimetype": "text/x-python",
   "name": "python",
   "nbconvert_exporter": "python",
   "pygments_lexer": "ipython3",
   "version": "3.9.13"
  }
 },
 "nbformat": 4,
 "nbformat_minor": 5
}
